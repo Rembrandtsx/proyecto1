{
 "cells": [
  {
   "cell_type": "markdown",
   "id": "f97fdeb4-c9ca-4970-8776-2e50b9f7c626",
   "metadata": {
    "tags": []
   },
   "source": [
    "### Proyecto: Analitica de textos\n",
    "#### Caso: Elegibilidad de pacientes para ensayos clinicos\n",
    "#### Camilo Salinas"
   ]
  },
  {
   "cell_type": "markdown",
   "id": "0daffe37-25c2-44a1-b69b-1f28cf9fa5c3",
   "metadata": {},
   "source": [
    "Para este proyecto, se escogio utilizar el clasificador de Naive Bayes para determinar a los pacientes en si son elegibles o si no. Antes de poder entrenar el modelo se debe realizar un preprocesamiento exaustivo en donde se utilice el modelo de Bag of Words para la vectorización del texto, y despues realizar la lematización del mismo. "
   ]
  },
  {
   "cell_type": "markdown",
   "id": "bffb1df4-c57f-4e25-9d6e-b90dc70441c5",
   "metadata": {
    "tags": []
   },
   "source": [
    "### 0. Importación de librerias"
   ]
  },
  {
   "cell_type": "code",
   "execution_count": 1,
   "id": "a343f673-a152-4b56-8d32-8b00f02da6db",
   "metadata": {},
   "outputs": [
    {
     "name": "stderr",
     "output_type": "stream",
     "text": [
      "[nltk_data] Downloading package stopwords to\n",
      "[nltk_data]     /Users/rembrandtsx/nltk_data...\n",
      "[nltk_data]   Package stopwords is already up-to-date!\n"
     ]
    }
   ],
   "source": [
    "import pandas as pd\n",
    "pd.set_option('display.max_columns', 25)\n",
    "pd.set_option('display.max_rows', 50)\n",
    "import numpy as np\n",
    "np.random.seed(3301)\n",
    "import pandas as pd\n",
    "\n",
    "# Preprocesamiento de datos\n",
    "from sklearn.preprocessing import LabelEncoder\n",
    "from sklearn.preprocessing import StandardScaler\n",
    "#para hacer balanceo de los features\n",
    "from imblearn.over_sampling import SMOTE\n",
    "# Para realizar la separaciond el conjunto de aprendizaje en entrenamiento y test\n",
    "from sklearn.model_selection import train_test_split\n",
    "# Para evaluar el modelo\n",
    "from sklearn.metrics import confusion_matrix, classification_report, precision_score, recall_score, f1_score, accuracy_score\n",
    "from sklearn.metrics import plot_confusion_matrix\n",
    "# Para busqueda de hiperparametros\n",
    "from sklearn.model_selection import GridSearchCV\n",
    "# Para la validación cruzada\n",
    "from sklearn.model_selection import KFold\n",
    "#Librerias para la visualizacion\n",
    "import matplotlib.pyplot as plt\n",
    "#Seaborn\n",
    "import seaborn as sns\n",
    "\n",
    "import re\n",
    "\n",
    "from sklearn.preprocessing import FunctionTransformer\n",
    "\n",
    "import nltk\n",
    "\n",
    "nltk.download('stopwords')\n",
    "from nltk.corpus import stopwords\n",
    "\n",
    "from nltk.stem.porter import PorterStemmer\n",
    "from sklearn.feature_extraction.text import TfidfVectorizer\n",
    "\n",
    "\n",
    "pd.set_option('display.max_colwidth', None)  # or 199\n",
    "\n",
    "from sklearn.feature_extraction.text import CountVectorizer\n",
    "\n",
    "from sklearn.linear_model import LogisticRegression\n",
    "\n",
    "from sklearn.pipeline import Pipeline\n",
    "from sklearn.pipeline import make_pipeline\n",
    "from sklearn.metrics import mean_squared_error as mse\n",
    "\n",
    "from sklearn.naive_bayes import GaussianNB\n",
    "from sklearn.naive_bayes import MultinomialNB\n",
    "\n",
    "\n",
    "%matplotlib inline"
   ]
  },
  {
   "cell_type": "markdown",
   "id": "e46509cd-719d-4136-b84e-a9246ff7bb6a",
   "metadata": {},
   "source": [
    "### 1. Preprocesamiento"
   ]
  },
  {
   "cell_type": "markdown",
   "id": "84adb828-77bd-46ac-b563-34e13c482f05",
   "metadata": {},
   "source": [
    "Primero se deben cargar los datos y realizar un perfilamiento de estos, una vez se sabe el estado y pureza de los datos se pueden empezar a limpiar siguiendo lo establecido en el diccionario de datos"
   ]
  },
  {
   "cell_type": "code",
   "execution_count": 2,
   "id": "fc8456ce-43ce-4b88-86ca-3902370523ca",
   "metadata": {},
   "outputs": [
    {
     "data": {
      "text/html": [
       "<div>\n",
       "<style scoped>\n",
       "    .dataframe tbody tr th:only-of-type {\n",
       "        vertical-align: middle;\n",
       "    }\n",
       "\n",
       "    .dataframe tbody tr th {\n",
       "        vertical-align: top;\n",
       "    }\n",
       "\n",
       "    .dataframe thead th {\n",
       "        text-align: right;\n",
       "    }\n",
       "</style>\n",
       "<table border=\"1\" class=\"dataframe\">\n",
       "  <thead>\n",
       "    <tr style=\"text-align: right;\">\n",
       "      <th></th>\n",
       "      <th>label</th>\n",
       "      <th>study_and_condition</th>\n",
       "    </tr>\n",
       "  </thead>\n",
       "  <tbody>\n",
       "    <tr>\n",
       "      <th>0</th>\n",
       "      <td>__label__0</td>\n",
       "      <td>study interventions are Saracatinib . recurrent verrucous carcinoma of the larynx diagnosis and patients must agree to use adequate birth control for the duration of study participation and for at least eight weeks after discontinuation of study drug</td>\n",
       "    </tr>\n",
       "    <tr>\n",
       "      <th>1</th>\n",
       "      <td>__label__1</td>\n",
       "      <td>study interventions are Stem cell transplantation . hodgkin lymphoma diagnosis and history of congenital hematologic immunologic or metabolic disorder which in the estimation of the pi poses prohibitive risk to the recipient</td>\n",
       "    </tr>\n",
       "    <tr>\n",
       "      <th>2</th>\n",
       "      <td>__label__0</td>\n",
       "      <td>study interventions are Lenograstim . recurrent adult diffuse mixed cell lymphoma diagnosis and creatinine clearance crcl greater than fifty ml per minute all tests must be performed within twenty-eight days prior to registration</td>\n",
       "    </tr>\n",
       "    <tr>\n",
       "      <th>3</th>\n",
       "      <td>__label__0</td>\n",
       "      <td>study interventions are Doxorubicin . stage iii diffuse large cell lymphoma diagnosis and stages ii bulky disease defined as mass size of more than ten cm stage iii or iv ann_arbor staging patients with stage and stage ii non bulky disease are excluded from this study</td>\n",
       "    </tr>\n",
       "    <tr>\n",
       "      <th>4</th>\n",
       "      <td>__label__1</td>\n",
       "      <td>study interventions are Poly I-C . prostate cancer diagnosis and unresolved iraes following prior biological therapy except that stable and managed iraes may be acceptable hypothyroidism or hypopituitarism on appropriate replacement</td>\n",
       "    </tr>\n",
       "  </tbody>\n",
       "</table>\n",
       "</div>"
      ],
      "text/plain": [
       "        label  \\\n",
       "0  __label__0   \n",
       "1  __label__1   \n",
       "2  __label__0   \n",
       "3  __label__0   \n",
       "4  __label__1   \n",
       "\n",
       "                                                                                                                                                                                                                                                            study_and_condition  \n",
       "0                    study interventions are Saracatinib . recurrent verrucous carcinoma of the larynx diagnosis and patients must agree to use adequate birth control for the duration of study participation and for at least eight weeks after discontinuation of study drug  \n",
       "1                                              study interventions are Stem cell transplantation . hodgkin lymphoma diagnosis and history of congenital hematologic immunologic or metabolic disorder which in the estimation of the pi poses prohibitive risk to the recipient  \n",
       "2                                         study interventions are Lenograstim . recurrent adult diffuse mixed cell lymphoma diagnosis and creatinine clearance crcl greater than fifty ml per minute all tests must be performed within twenty-eight days prior to registration  \n",
       "3  study interventions are Doxorubicin . stage iii diffuse large cell lymphoma diagnosis and stages ii bulky disease defined as mass size of more than ten cm stage iii or iv ann_arbor staging patients with stage and stage ii non bulky disease are excluded from this study  \n",
       "4                                      study interventions are Poly I-C . prostate cancer diagnosis and unresolved iraes following prior biological therapy except that stable and managed iraes may be acceptable hypothyroidism or hypopituitarism on appropriate replacement  "
      ]
     },
     "execution_count": 2,
     "metadata": {},
     "output_type": "execute_result"
    }
   ],
   "source": [
    "# Importe\n",
    "df_eleg = pd.read_csv('../Datos/ElegibilidadEstudiantes/clinical_trials_on_cancer_data_clasificacion.csv', sep=',', encoding='utf-8', dtype='unicode')\n",
    "df_eleg.head()"
   ]
  },
  {
   "cell_type": "markdown",
   "id": "4c450003-0000-4b1c-a0e6-6441fbc8fc5e",
   "metadata": {},
   "source": [
    "Vemos si existen datos nulos en el dataset:"
   ]
  },
  {
   "cell_type": "code",
   "execution_count": 3,
   "id": "401c3b3e-8b9b-4da5-847c-6bc0296401f4",
   "metadata": {},
   "outputs": [
    {
     "data": {
      "text/plain": [
       "label                  0\n",
       "study_and_condition    0\n",
       "dtype: int64"
      ]
     },
     "execution_count": 3,
     "metadata": {},
     "output_type": "execute_result"
    }
   ],
   "source": [
    "df_eleg.isna().sum()"
   ]
  },
  {
   "cell_type": "markdown",
   "id": "c0385fdc-5618-493e-9fbc-7b65b32ec6d2",
   "metadata": {},
   "source": [
    "Los datos no tienen nulos pero estan presentados de maneras distintas. Algunos comienzan con comillas, otros son espacios. Debemos lograr entradas similares. Adicionalmente la informacion importante del paciente esta ubicada despues del primer punto. Adicionalmente vemos que los labels son categoricos y debemos volvernos numericos. Aunque un label encoder haria esta tarea con facilidad, queremos conservar la categoria implicita que ya traen."
   ]
  },
  {
   "cell_type": "code",
   "execution_count": 4,
   "id": "5e61ca93-d4f0-4b4e-a306-74d3e3118b2d",
   "metadata": {},
   "outputs": [
    {
     "name": "stdout",
     "output_type": "stream",
     "text": [
      "             label  \\\n",
      "count        12000   \n",
      "unique           2   \n",
      "top     __label__0   \n",
      "freq          6000   \n",
      "\n",
      "                                                                             study_and_condition  \n",
      "count                                                                                      12000  \n",
      "unique                                                                                     11987  \n",
      "top     study interventions are Fludarabine . anaplastic large cell lymphoma diagnosis and donor  \n",
      "freq                                                                                           2  \n"
     ]
    },
    {
     "data": {
      "text/html": [
       "<div>\n",
       "<style scoped>\n",
       "    .dataframe tbody tr th:only-of-type {\n",
       "        vertical-align: middle;\n",
       "    }\n",
       "\n",
       "    .dataframe tbody tr th {\n",
       "        vertical-align: top;\n",
       "    }\n",
       "\n",
       "    .dataframe thead th {\n",
       "        text-align: right;\n",
       "    }\n",
       "</style>\n",
       "<table border=\"1\" class=\"dataframe\">\n",
       "  <thead>\n",
       "    <tr style=\"text-align: right;\">\n",
       "      <th></th>\n",
       "      <th>label</th>\n",
       "      <th>study_and_condition</th>\n",
       "    </tr>\n",
       "  </thead>\n",
       "  <tbody>\n",
       "    <tr>\n",
       "      <th>0</th>\n",
       "      <td>0</td>\n",
       "      <td>study interventions are Saracatinib . recurrent verrucous carcinoma of the larynx diagnosis and patients must agree to use adequate birth control for the duration of study participation and for at least eight weeks after discontinuation of study drug</td>\n",
       "    </tr>\n",
       "    <tr>\n",
       "      <th>1</th>\n",
       "      <td>1</td>\n",
       "      <td>study interventions are Stem cell transplantation . hodgkin lymphoma diagnosis and history of congenital hematologic immunologic or metabolic disorder which in the estimation of the pi poses prohibitive risk to the recipient</td>\n",
       "    </tr>\n",
       "    <tr>\n",
       "      <th>2</th>\n",
       "      <td>0</td>\n",
       "      <td>study interventions are Lenograstim . recurrent adult diffuse mixed cell lymphoma diagnosis and creatinine clearance crcl greater than fifty ml per minute all tests must be performed within twenty-eight days prior to registration</td>\n",
       "    </tr>\n",
       "    <tr>\n",
       "      <th>3</th>\n",
       "      <td>0</td>\n",
       "      <td>study interventions are Doxorubicin . stage iii diffuse large cell lymphoma diagnosis and stages ii bulky disease defined as mass size of more than ten cm stage iii or iv ann_arbor staging patients with stage and stage ii non bulky disease are excluded from this study</td>\n",
       "    </tr>\n",
       "    <tr>\n",
       "      <th>4</th>\n",
       "      <td>1</td>\n",
       "      <td>study interventions are Poly I-C . prostate cancer diagnosis and unresolved iraes following prior biological therapy except that stable and managed iraes may be acceptable hypothyroidism or hypopituitarism on appropriate replacement</td>\n",
       "    </tr>\n",
       "    <tr>\n",
       "      <th>...</th>\n",
       "      <td>...</td>\n",
       "      <td>...</td>\n",
       "    </tr>\n",
       "    <tr>\n",
       "      <th>11995</th>\n",
       "      <td>0</td>\n",
       "      <td>study interventions are Prednisolone hemisuccinate . recurrent childhood large cell lymphoma diagnosis and no known hypersensitivity to etanercept</td>\n",
       "    </tr>\n",
       "    <tr>\n",
       "      <th>11996</th>\n",
       "      <td>0</td>\n",
       "      <td>study interventions are Bevacizumab . recurrent rectal cancer diagnosis and absolute neutrophil count greater_than equal_than one thousand, five hundred ul</td>\n",
       "    </tr>\n",
       "    <tr>\n",
       "      <th>11997</th>\n",
       "      <td>1</td>\n",
       "      <td>study interventions are Antibodies, Monoclonal . recurrent lymphoblastic lymphoma diagnosis and and intrathecal intraventricular therapy</td>\n",
       "    </tr>\n",
       "    <tr>\n",
       "      <th>11998</th>\n",
       "      <td>0</td>\n",
       "      <td>study interventions are Vorinostat . colorectal cancer diagnosis and patients must have received at least one prior chemotherapy regimen for advanced disease</td>\n",
       "    </tr>\n",
       "    <tr>\n",
       "      <th>11999</th>\n",
       "      <td>0</td>\n",
       "      <td>study interventions are Freund's Adjuvant . ovarian cancer diagnosis and more than four weeks since prior participation in any other investigational study</td>\n",
       "    </tr>\n",
       "  </tbody>\n",
       "</table>\n",
       "<p>12000 rows × 2 columns</p>\n",
       "</div>"
      ],
      "text/plain": [
       "      label  \\\n",
       "0         0   \n",
       "1         1   \n",
       "2         0   \n",
       "3         0   \n",
       "4         1   \n",
       "...     ...   \n",
       "11995     0   \n",
       "11996     0   \n",
       "11997     1   \n",
       "11998     0   \n",
       "11999     0   \n",
       "\n",
       "                                                                                                                                                                                                                                                                study_and_condition  \n",
       "0                        study interventions are Saracatinib . recurrent verrucous carcinoma of the larynx diagnosis and patients must agree to use adequate birth control for the duration of study participation and for at least eight weeks after discontinuation of study drug  \n",
       "1                                                  study interventions are Stem cell transplantation . hodgkin lymphoma diagnosis and history of congenital hematologic immunologic or metabolic disorder which in the estimation of the pi poses prohibitive risk to the recipient  \n",
       "2                                             study interventions are Lenograstim . recurrent adult diffuse mixed cell lymphoma diagnosis and creatinine clearance crcl greater than fifty ml per minute all tests must be performed within twenty-eight days prior to registration  \n",
       "3      study interventions are Doxorubicin . stage iii diffuse large cell lymphoma diagnosis and stages ii bulky disease defined as mass size of more than ten cm stage iii or iv ann_arbor staging patients with stage and stage ii non bulky disease are excluded from this study  \n",
       "4                                          study interventions are Poly I-C . prostate cancer diagnosis and unresolved iraes following prior biological therapy except that stable and managed iraes may be acceptable hypothyroidism or hypopituitarism on appropriate replacement  \n",
       "...                                                                                                                                                                                                                                                                             ...  \n",
       "11995                                                                                                                            study interventions are Prednisolone hemisuccinate . recurrent childhood large cell lymphoma diagnosis and no known hypersensitivity to etanercept  \n",
       "11996                                                                                                                   study interventions are Bevacizumab . recurrent rectal cancer diagnosis and absolute neutrophil count greater_than equal_than one thousand, five hundred ul  \n",
       "11997                                                                                                                                      study interventions are Antibodies, Monoclonal . recurrent lymphoblastic lymphoma diagnosis and and intrathecal intraventricular therapy  \n",
       "11998                                                                                                                 study interventions are Vorinostat . colorectal cancer diagnosis and patients must have received at least one prior chemotherapy regimen for advanced disease  \n",
       "11999                                                                                                                    study interventions are Freund's Adjuvant . ovarian cancer diagnosis and more than four weeks since prior participation in any other investigational study  \n",
       "\n",
       "[12000 rows x 2 columns]"
      ]
     },
     "execution_count": 4,
     "metadata": {},
     "output_type": "execute_result"
    }
   ],
   "source": [
    "def preprocessor(df):\n",
    "    df= df.replace('\"\"', '')\n",
    "    df = df.str.strip(' ')\n",
    "    df = df.str.split('.').str[1]\n",
    "    return df\n",
    "print(df_eleg.describe())\n",
    "\n",
    "def encoder(df):\n",
    "    df.loc[df['label'] == '__label__0', 'label'] = 0\n",
    "    df.loc[df['label'] == '__label__1', 'label'] = 1\n",
    "encoder(df_eleg)\n",
    "df_eleg"
   ]
  },
  {
   "cell_type": "markdown",
   "id": "353fc6cb-c64e-4f8a-a48c-63d79a4261d2",
   "metadata": {},
   "source": [
    "Creamos el pipeline para facilitar el uso del modelo en produccion."
   ]
  },
  {
   "cell_type": "code",
   "execution_count": 5,
   "id": "1a3a61c2-3bd8-43e8-83e4-6170e5a5ad0f",
   "metadata": {},
   "outputs": [],
   "source": [
    "pre = [('preproc', FunctionTransformer(preprocessor))]"
   ]
  },
  {
   "cell_type": "markdown",
   "id": "d9f34216-7e24-4869-a298-823b2046dbf3",
   "metadata": {},
   "source": [
    "Ahora vamos a preprocesar el texto partiendolo en tokens y lematizandolo. Despues se utilizar un modelo de bag of words y finalmente tf-idf para identificar las palabras importantes. Aprovechamos el corpus de nltk para quitar palabras conectoras que generen ruido."
   ]
  },
  {
   "cell_type": "code",
   "execution_count": 6,
   "id": "f3a33767-c0e1-4552-8d38-ef13868cb0bb",
   "metadata": {
    "tags": []
   },
   "outputs": [],
   "source": [
    "porter = PorterStemmer()\n",
    "stop = stopwords.words('english')\n",
    "def tokenizer_porter(sentence):\n",
    "    tokens = sentence.split()\n",
    "    stemmed_tokens = [porter.stem(token) for token in tokens if token not in stop]\n",
    "    return ' '.join(stemmed_tokens)\n",
    "\n",
    "def transformer_tokenizer(df):\n",
    "    df = df.apply(tokenizer_porter)\n",
    "    return df\n",
    "\n",
    "pre += [('porter', FunctionTransformer(transformer_tokenizer))]"
   ]
  },
  {
   "cell_type": "code",
   "execution_count": 7,
   "id": "2c602a02-f2ac-42c7-985f-4abc6bb48c8a",
   "metadata": {},
   "outputs": [
    {
     "data": {
      "text/html": [
       "<div>\n",
       "<style scoped>\n",
       "    .dataframe tbody tr th:only-of-type {\n",
       "        vertical-align: middle;\n",
       "    }\n",
       "\n",
       "    .dataframe tbody tr th {\n",
       "        vertical-align: top;\n",
       "    }\n",
       "\n",
       "    .dataframe thead th {\n",
       "        text-align: right;\n",
       "    }\n",
       "</style>\n",
       "<table border=\"1\" class=\"dataframe\">\n",
       "  <thead>\n",
       "    <tr style=\"text-align: right;\">\n",
       "      <th></th>\n",
       "      <th>label</th>\n",
       "      <th>study_and_condition</th>\n",
       "    </tr>\n",
       "  </thead>\n",
       "  <tbody>\n",
       "    <tr>\n",
       "      <th>0</th>\n",
       "      <td>0</td>\n",
       "      <td>study interventions are Saracatinib . recurrent verrucous carcinoma of the larynx diagnosis and patients must agree to use adequate birth control for the duration of study participation and for at least eight weeks after discontinuation of study drug</td>\n",
       "    </tr>\n",
       "    <tr>\n",
       "      <th>1</th>\n",
       "      <td>1</td>\n",
       "      <td>study interventions are Stem cell transplantation . hodgkin lymphoma diagnosis and history of congenital hematologic immunologic or metabolic disorder which in the estimation of the pi poses prohibitive risk to the recipient</td>\n",
       "    </tr>\n",
       "    <tr>\n",
       "      <th>2</th>\n",
       "      <td>0</td>\n",
       "      <td>study interventions are Lenograstim . recurrent adult diffuse mixed cell lymphoma diagnosis and creatinine clearance crcl greater than fifty ml per minute all tests must be performed within twenty-eight days prior to registration</td>\n",
       "    </tr>\n",
       "    <tr>\n",
       "      <th>3</th>\n",
       "      <td>0</td>\n",
       "      <td>study interventions are Doxorubicin . stage iii diffuse large cell lymphoma diagnosis and stages ii bulky disease defined as mass size of more than ten cm stage iii or iv ann_arbor staging patients with stage and stage ii non bulky disease are excluded from this study</td>\n",
       "    </tr>\n",
       "    <tr>\n",
       "      <th>4</th>\n",
       "      <td>1</td>\n",
       "      <td>study interventions are Poly I-C . prostate cancer diagnosis and unresolved iraes following prior biological therapy except that stable and managed iraes may be acceptable hypothyroidism or hypopituitarism on appropriate replacement</td>\n",
       "    </tr>\n",
       "    <tr>\n",
       "      <th>...</th>\n",
       "      <td>...</td>\n",
       "      <td>...</td>\n",
       "    </tr>\n",
       "    <tr>\n",
       "      <th>11995</th>\n",
       "      <td>0</td>\n",
       "      <td>study interventions are Prednisolone hemisuccinate . recurrent childhood large cell lymphoma diagnosis and no known hypersensitivity to etanercept</td>\n",
       "    </tr>\n",
       "    <tr>\n",
       "      <th>11996</th>\n",
       "      <td>0</td>\n",
       "      <td>study interventions are Bevacizumab . recurrent rectal cancer diagnosis and absolute neutrophil count greater_than equal_than one thousand, five hundred ul</td>\n",
       "    </tr>\n",
       "    <tr>\n",
       "      <th>11997</th>\n",
       "      <td>1</td>\n",
       "      <td>study interventions are Antibodies, Monoclonal . recurrent lymphoblastic lymphoma diagnosis and and intrathecal intraventricular therapy</td>\n",
       "    </tr>\n",
       "    <tr>\n",
       "      <th>11998</th>\n",
       "      <td>0</td>\n",
       "      <td>study interventions are Vorinostat . colorectal cancer diagnosis and patients must have received at least one prior chemotherapy regimen for advanced disease</td>\n",
       "    </tr>\n",
       "    <tr>\n",
       "      <th>11999</th>\n",
       "      <td>0</td>\n",
       "      <td>study interventions are Freund's Adjuvant . ovarian cancer diagnosis and more than four weeks since prior participation in any other investigational study</td>\n",
       "    </tr>\n",
       "  </tbody>\n",
       "</table>\n",
       "<p>12000 rows × 2 columns</p>\n",
       "</div>"
      ],
      "text/plain": [
       "      label  \\\n",
       "0         0   \n",
       "1         1   \n",
       "2         0   \n",
       "3         0   \n",
       "4         1   \n",
       "...     ...   \n",
       "11995     0   \n",
       "11996     0   \n",
       "11997     1   \n",
       "11998     0   \n",
       "11999     0   \n",
       "\n",
       "                                                                                                                                                                                                                                                                study_and_condition  \n",
       "0                        study interventions are Saracatinib . recurrent verrucous carcinoma of the larynx diagnosis and patients must agree to use adequate birth control for the duration of study participation and for at least eight weeks after discontinuation of study drug  \n",
       "1                                                  study interventions are Stem cell transplantation . hodgkin lymphoma diagnosis and history of congenital hematologic immunologic or metabolic disorder which in the estimation of the pi poses prohibitive risk to the recipient  \n",
       "2                                             study interventions are Lenograstim . recurrent adult diffuse mixed cell lymphoma diagnosis and creatinine clearance crcl greater than fifty ml per minute all tests must be performed within twenty-eight days prior to registration  \n",
       "3      study interventions are Doxorubicin . stage iii diffuse large cell lymphoma diagnosis and stages ii bulky disease defined as mass size of more than ten cm stage iii or iv ann_arbor staging patients with stage and stage ii non bulky disease are excluded from this study  \n",
       "4                                          study interventions are Poly I-C . prostate cancer diagnosis and unresolved iraes following prior biological therapy except that stable and managed iraes may be acceptable hypothyroidism or hypopituitarism on appropriate replacement  \n",
       "...                                                                                                                                                                                                                                                                             ...  \n",
       "11995                                                                                                                            study interventions are Prednisolone hemisuccinate . recurrent childhood large cell lymphoma diagnosis and no known hypersensitivity to etanercept  \n",
       "11996                                                                                                                   study interventions are Bevacizumab . recurrent rectal cancer diagnosis and absolute neutrophil count greater_than equal_than one thousand, five hundred ul  \n",
       "11997                                                                                                                                      study interventions are Antibodies, Monoclonal . recurrent lymphoblastic lymphoma diagnosis and and intrathecal intraventricular therapy  \n",
       "11998                                                                                                                 study interventions are Vorinostat . colorectal cancer diagnosis and patients must have received at least one prior chemotherapy regimen for advanced disease  \n",
       "11999                                                                                                                    study interventions are Freund's Adjuvant . ovarian cancer diagnosis and more than four weeks since prior participation in any other investigational study  \n",
       "\n",
       "[12000 rows x 2 columns]"
      ]
     },
     "execution_count": 7,
     "metadata": {},
     "output_type": "execute_result"
    }
   ],
   "source": [
    "df_eleg"
   ]
  },
  {
   "cell_type": "markdown",
   "id": "dd820351-680b-41d7-8cc4-30825e6080a8",
   "metadata": {},
   "source": [
    "Ahora utilizamos el modelo Bag of Worda para traducir el texto a un vector numerico que representa las palabras en el mismo. Como la frecuencia de las palabras no importantes tiende a ser elevado entonces utilizamos tfidf para corregirlo."
   ]
  },
  {
   "cell_type": "code",
   "execution_count": 8,
   "id": "0dbab44c-d60f-4a07-a275-b0e8bb3e889e",
   "metadata": {},
   "outputs": [],
   "source": [
    "tfidf = TfidfVectorizer()\n"
   ]
  },
  {
   "cell_type": "markdown",
   "id": "db71bd67-02bc-4435-9b7e-b461cef2071c",
   "metadata": {},
   "source": [
    "### 2. Entrenamiento del modelo de clasificación de Naive Bayes"
   ]
  },
  {
   "cell_type": "markdown",
   "id": "6f9624ee-5fbf-4329-b92c-6bd04654143e",
   "metadata": {},
   "source": [
    "Para los parametros del modelo tomamos las dos penalidades posibles, y un rango de coeficientes de regularización para que el GridSearch pueda buscar el modelo mas optimo. También se incluye en el grid si se usa o no el IDF para ver esto como varia con el comportamiento frecuencial de los tokens. Se prueban con dos solvers."
   ]
  },
  {
   "cell_type": "code",
   "execution_count": 16,
   "id": "f94dc6d7-e20d-4dea-9c10-86f675f9b834",
   "metadata": {},
   "outputs": [
    {
     "name": "stdout",
     "output_type": "stream",
     "text": [
      "Fitting 5 folds for each of 24 candidates, totalling 120 fits\n",
      "{'CNB__alpha': 1.1, 'CNB__fit_prior': True, 'tfidf__ngram_range': (1, 1), 'tfidf__use_idf': True}\n"
     ]
    }
   ],
   "source": [
    "Y = df_eleg['label'].astype('int')\n",
    "X = df_eleg['study_and_condition']\n",
    "\n",
    "\n",
    "X_train, X_test, Y_train, Y_test = train_test_split(X, Y, test_size = 0.15, random_state = 98572398)\n",
    "model = [('CNB',MultinomialNB())]\n",
    "\n",
    "param_grid = {\n",
    "    'tfidf__ngram_range': [(1,1)],\n",
    "    'tfidf__use_idf':[False, True],\n",
    "    'CNB__alpha': np.linspace(0.5, 1.5, 6),\n",
    "    'CNB__fit_prior': [True, False]\n",
    "}\n",
    "p1 = Pipeline(pre+model)\n",
    "\n",
    "gs = GridSearchCV(p1, param_grid, scoring='accuracy', cv=5, verbose=1, n_jobs=-1)\n",
    "\n",
    "gs.fit(X_train, Y_train)\n",
    "clf = gs.best_estimator_\n",
    "print(gs.best_params_)\n"
   ]
  },
  {
   "cell_type": "code",
   "execution_count": 17,
   "id": "c8db5ba7-8961-4413-9b1b-8f8a2a15e3e7",
   "metadata": {},
   "outputs": [
    {
     "name": "stdout",
     "output_type": "stream",
     "text": [
      "Coeficiente de determinación R^2:  0.8205\n"
     ]
    }
   ],
   "source": [
    "print(\"Coeficiente de determinación R^2: \",clf.score(X,Y))"
   ]
  },
  {
   "cell_type": "code",
   "execution_count": 18,
   "id": "aff60ed2-05c3-4cd6-90e5-7b7d6709c575",
   "metadata": {},
   "outputs": [
    {
     "name": "stdout",
     "output_type": "stream",
     "text": [
      "Root-Mean-Square Error (RMSE): 0.4236744032862972\n"
     ]
    }
   ],
   "source": [
    "y_true = Y\n",
    "y_predicted = clf.predict(X)\n",
    "\n",
    "# Note que hay que sacarle la raiz al valor\n",
    "print(\"Root-Mean-Square Error (RMSE):\",np.sqrt(mse(y_true, y_predicted)))"
   ]
  },
  {
   "cell_type": "markdown",
   "id": "067fd09e-81f4-4bfc-8409-96b9324d5228",
   "metadata": {},
   "source": [
    "El RMSE esta por debajo de 1, una muy buen metrica. Con estas dos metricas podemos ver que el modelo es correcto y se aproxima a las predicciones esperadas. Desde un punto de vista tecnico se recomienda usarlo para el negocio."
   ]
  },
  {
   "cell_type": "code",
   "execution_count": 19,
   "id": "e77b411c-3234-49d9-a4a8-fc50f51f38fc",
   "metadata": {},
   "outputs": [
    {
     "name": "stdout",
     "output_type": "stream",
     "text": [
      "CV Accuracy: 0.780\n",
      "Test Accuracy: 0.787\n"
     ]
    }
   ],
   "source": [
    "print('CV Accuracy: %.3f' % gs.best_score_)\n",
    "\n",
    "print('Test Accuracy: %.3f' % clf.score(X_test, Y_test))"
   ]
  },
  {
   "cell_type": "markdown",
   "id": "a67b6c9a-c45c-4b14-9a9e-84cc4dcd817f",
   "metadata": {},
   "source": [
    "Finalmente tenemos metricas para poder compararlo con los otros algoritmos de clasificacion ya que estos no tienen R2 ni RMSE. Con metricas cercanas al 80% tieneun accuracy bueno y utilizable para el negocio."
   ]
  },
  {
   "cell_type": "code",
   "execution_count": 20,
   "id": "c426de47-ce46-4c8c-a89d-9307d6b3a352",
   "metadata": {},
   "outputs": [],
   "source": [
    "df_export = df_eleg.copy()['study_and_condition']\n",
    "df_export = preprocessor(df=df_export)\n",
    "df_export = transformer_tokenizer(df_export)\n",
    "tfidf_expo = TfidfVectorizer(strip_accents=None, lowercase=False, preprocessor=None, ngram_range= (1, 1),use_idf= True)\n",
    "df_export =tfidf_expo.fit_transform(df_export)"
   ]
  },
  {
   "cell_type": "code",
   "execution_count": 21,
   "id": "978bbb6d-5863-45ee-b6e6-1bb4aef142d9",
   "metadata": {},
   "outputs": [
    {
     "name": "stdout",
     "output_type": "stream",
     "text": [
      "       0pd  0three_two9  0two_two009  101  15zero  1five  1four  1six  1six0  \\\n",
      "0      0.0          0.0          0.0  0.0     0.0    0.0    0.0   0.0    0.0   \n",
      "1      0.0          0.0          0.0  0.0     0.0    0.0    0.0   0.0    0.0   \n",
      "2      0.0          0.0          0.0  0.0     0.0    0.0    0.0   0.0    0.0   \n",
      "3      0.0          0.0          0.0  0.0     0.0    0.0    0.0   0.0    0.0   \n",
      "4      0.0          0.0          0.0  0.0     0.0    0.0    0.0   0.0    0.0   \n",
      "...    ...          ...          ...  ...     ...    ...    ...   ...    ...   \n",
      "11995  0.0          0.0          0.0  0.0     0.0    0.0    0.0   0.0    0.0   \n",
      "11996  0.0          0.0          0.0  0.0     0.0    0.0    0.0   0.0    0.0   \n",
      "11997  0.0          0.0          0.0  0.0     0.0    0.0    0.0   0.0    0.0   \n",
      "11998  0.0          0.0          0.0  0.0     0.0    0.0    0.0   0.0    0.0   \n",
      "11999  0.0          0.0          0.0  0.0     0.0    0.0    0.0   0.0    0.0   \n",
      "\n",
      "       1three  1two  1two0  ...  zolmitriptan  zometa  zone  zubrod   µl  \\\n",
      "0         0.0   0.0    0.0  ...           0.0     0.0   0.0     0.0  0.0   \n",
      "1         0.0   0.0    0.0  ...           0.0     0.0   0.0     0.0  0.0   \n",
      "2         0.0   0.0    0.0  ...           0.0     0.0   0.0     0.0  0.0   \n",
      "3         0.0   0.0    0.0  ...           0.0     0.0   0.0     0.0  0.0   \n",
      "4         0.0   0.0    0.0  ...           0.0     0.0   0.0     0.0  0.0   \n",
      "...       ...   ...    ...  ...           ...     ...   ...     ...  ...   \n",
      "11995     0.0   0.0    0.0  ...           0.0     0.0   0.0     0.0  0.0   \n",
      "11996     0.0   0.0    0.0  ...           0.0     0.0   0.0     0.0  0.0   \n",
      "11997     0.0   0.0    0.0  ...           0.0     0.0   0.0     0.0  0.0   \n",
      "11998     0.0   0.0    0.0  ...           0.0     0.0   0.0     0.0  0.0   \n",
      "11999     0.0   0.0    0.0  ...           0.0     0.0   0.0     0.0  0.0   \n",
      "\n",
      "       µmol   ºc   ºf  ½_teaspoon   μl  μmol   υl  \n",
      "0       0.0  0.0  0.0         0.0  0.0   0.0  0.0  \n",
      "1       0.0  0.0  0.0         0.0  0.0   0.0  0.0  \n",
      "2       0.0  0.0  0.0         0.0  0.0   0.0  0.0  \n",
      "3       0.0  0.0  0.0         0.0  0.0   0.0  0.0  \n",
      "4       0.0  0.0  0.0         0.0  0.0   0.0  0.0  \n",
      "...     ...  ...  ...         ...  ...   ...  ...  \n",
      "11995   0.0  0.0  0.0         0.0  0.0   0.0  0.0  \n",
      "11996   0.0  0.0  0.0         0.0  0.0   0.0  0.0  \n",
      "11997   0.0  0.0  0.0         0.0  0.0   0.0  0.0  \n",
      "11998   0.0  0.0  0.0         0.0  0.0   0.0  0.0  \n",
      "11999   0.0  0.0  0.0         0.0  0.0   0.0  0.0  \n",
      "\n",
      "[12000 rows x 5509 columns]\n"
     ]
    }
   ],
   "source": [
    "df1 = pd.DataFrame(df_export.toarray(), columns=tfidf_expo.get_feature_names())\n",
    "print(df1)"
   ]
  },
  {
   "cell_type": "code",
   "execution_count": 22,
   "id": "caa4884b-bff2-4ff5-ba35-83d6538c5dcf",
   "metadata": {},
   "outputs": [],
   "source": [
    "df1.insert(loc=0, column='%label%', value=Y)\n",
    "df1.to_csv('datos_finales.csv')"
   ]
  },
  {
   "cell_type": "code",
   "execution_count": null,
   "id": "9e975def-03c7-41d9-8510-57d6c522a5e4",
   "metadata": {},
   "outputs": [],
   "source": []
  }
 ],
 "metadata": {
  "kernelspec": {
   "display_name": "Python 3 (ipykernel)",
   "language": "python",
   "name": "python3"
  },
  "language_info": {
   "codemirror_mode": {
    "name": "ipython",
    "version": 3
   },
   "file_extension": ".py",
   "mimetype": "text/x-python",
   "name": "python",
   "nbconvert_exporter": "python",
   "pygments_lexer": "ipython3",
   "version": "3.9.10"
  }
 },
 "nbformat": 4,
 "nbformat_minor": 5
}
